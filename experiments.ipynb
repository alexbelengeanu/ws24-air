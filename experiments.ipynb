{
 "cells": [
  {
   "cell_type": "code",
   "execution_count": 67,
   "metadata": {},
   "outputs": [
    {
     "name": "stdout",
     "output_type": "stream",
     "text": [
      "The autoreload extension is already loaded. To reload it, use:\n",
      "  %reload_ext autoreload\n"
     ]
    }
   ],
   "source": [
    "%load_ext autoreload\n",
    "%autoreload 2"
   ]
  },
  {
   "cell_type": "markdown",
   "metadata": {},
   "source": [
    "# Local VectorDB"
   ]
  },
  {
   "cell_type": "code",
   "execution_count": 1,
   "metadata": {},
   "outputs": [],
   "source": [
    "from src.storage.client import DatabaseManager\n",
    "\n",
    "db_manager = DatabaseManager()\n",
    "db_manager.create_client(remove_if_exists=True)"
   ]
  },
  {
   "cell_type": "code",
   "execution_count": 2,
   "metadata": {},
   "outputs": [],
   "source": [
    "from src.storage.collection import ImageCollection\n",
    "\n",
    "img_dim = 2\n",
    "img_similiary_metric = \"COSINE\"\n",
    "img_collection = ImageCollection(db_manager.get_client(), dimension=img_dim, metric_type=img_similiary_metric)"
   ]
  },
  {
   "cell_type": "markdown",
   "metadata": {},
   "source": [
    "# Insert with Dummy Embeddings"
   ]
  },
  {
   "cell_type": "code",
   "execution_count": 3,
   "metadata": {},
   "outputs": [
    {
     "name": "stdout",
     "output_type": "stream",
     "text": [
      "2880: ['./data/img_align_celeba/000001.jpg', './data/img_align_celeba/000404.jpg', './data/img_align_celeba/003415.jpg', './data/img_align_celeba/004390.jpg', './data/img_align_celeba/018062.jpg', './data/img_align_celeba/025244.jpg', './data/img_align_celeba/027771.jpg', './data/img_align_celeba/039393.jpg', './data/img_align_celeba/047978.jpg', './data/img_align_celeba/049142.jpg', './data/img_align_celeba/052385.jpg', './data/img_align_celeba/052623.jpg', './data/img_align_celeba/053184.jpg', './data/img_align_celeba/053311.jpg', './data/img_align_celeba/055834.jpg', './data/img_align_celeba/058188.jpg', './data/img_align_celeba/061431.jpg', './data/img_align_celeba/068154.jpg', './data/img_align_celeba/084705.jpg', './data/img_align_celeba/090937.jpg', './data/img_align_celeba/096324.jpg', './data/img_align_celeba/100990.jpg', './data/img_align_celeba/103728.jpg', './data/img_align_celeba/108341.jpg', './data/img_align_celeba/110376.jpg', './data/img_align_celeba/122439.jpg', './data/img_align_celeba/131731.jpg', './data/img_align_celeba/134007.jpg', './data/img_align_celeba/139106.jpg', './data/img_align_celeba/140935.jpg']\n",
      "\n",
      "2937: ['./data/img_align_celeba/000002.jpg', './data/img_align_celeba/011437.jpg', './data/img_align_celeba/016335.jpg', './data/img_align_celeba/017121.jpg', './data/img_align_celeba/024291.jpg', './data/img_align_celeba/037082.jpg', './data/img_align_celeba/045318.jpg', './data/img_align_celeba/046844.jpg', './data/img_align_celeba/048360.jpg', './data/img_align_celeba/055891.jpg', './data/img_align_celeba/057357.jpg', './data/img_align_celeba/058209.jpg', './data/img_align_celeba/058400.jpg', './data/img_align_celeba/059638.jpg', './data/img_align_celeba/060925.jpg', './data/img_align_celeba/063242.jpg', './data/img_align_celeba/063616.jpg', './data/img_align_celeba/066809.jpg', './data/img_align_celeba/077346.jpg', './data/img_align_celeba/095867.jpg', './data/img_align_celeba/099877.jpg', './data/img_align_celeba/105287.jpg', './data/img_align_celeba/108661.jpg', './data/img_align_celeba/114336.jpg', './data/img_align_celeba/114625.jpg', './data/img_align_celeba/117710.jpg', './data/img_align_celeba/120280.jpg', './data/img_align_celeba/125140.jpg', './data/img_align_celeba/142601.jpg', './data/img_align_celeba/152380.jpg']\n",
      "\n"
     ]
    }
   ],
   "source": [
    "from src.storage.dataset import Dataset\n",
    "\n",
    "dataset = Dataset(\n",
    "    img_folder_path=\"./data/img_align_celeba\",\n",
    "    img_identity_map_path=\"./data/identity_CelebA.txt\"\n",
    ")\n",
    "\n",
    "img_identity_collection = dataset.images_by_identity()\n",
    "\n",
    "keys_list = list(img_identity_collection.keys())\n",
    "for key in keys_list[:2]:  # Using slicing to get the first five keys\n",
    "    print(f'{key}: {img_identity_collection[key]}\\n')"
   ]
  },
  {
   "cell_type": "code",
   "execution_count": 4,
   "metadata": {},
   "outputs": [
    {
     "name": "stdout",
     "output_type": "stream",
     "text": [
      "# Celebrity-ID 2880  #img=30\n",
      "# Celebrity-ID 2937  #img=30\n"
     ]
    }
   ],
   "source": [
    "id1_images = img_identity_collection[2880]\n",
    "id2_images = img_identity_collection[2937]\n",
    "\n",
    "print(f\"# Celebrity-ID 2880  #img={len(id1_images)}\")\n",
    "print(f\"# Celebrity-ID 2937  #img={len(id2_images)}\")"
   ]
  },
  {
   "cell_type": "code",
   "execution_count": 5,
   "metadata": {},
   "outputs": [],
   "source": [
    "# TODO: DUMMY Embedding replace with real img2vec embedding!\n",
    "import numpy as np\n",
    "\n",
    "np.random.seed(7)\n",
    "\n",
    "def embedding_celebrity_id1(img_path: str, dim: int):\n",
    "    vector = np.random.normal(size=dim, loc=[100, 100], scale=10)\n",
    "    return vector\n",
    "\n",
    "def embedding_celebrity_id2(img_path: str, dim: int):\n",
    "    vector = np.random.normal(size=dim, loc=[-100, 30], scale=50)\n",
    "    return vector"
   ]
  },
  {
   "cell_type": "code",
   "execution_count": 24,
   "metadata": {},
   "outputs": [
    {
     "data": {
      "text/plain": [
       "[{'celeb_id': 1,\n",
       "  'img_path': './data/img_align_celeba/000001.jpg',\n",
       "  'vector': array([97.57250921, 85.46758588])},\n",
       " {'celeb_id': 1,\n",
       "  'img_path': './data/img_align_celeba/000404.jpg',\n",
       "  'vector': array([105.54580312, 101.23880905])},\n",
       " {'celeb_id': 1,\n",
       "  'img_path': './data/img_align_celeba/003415.jpg',\n",
       "  'vector': array([102.74459924,  84.73475468])},\n",
       " {'celeb_id': 1,\n",
       "  'img_path': './data/img_align_celeba/004390.jpg',\n",
       "  'vector': array([116.50699691, 101.54335535])},\n",
       " {'celeb_id': 1,\n",
       "  'img_path': './data/img_align_celeba/018062.jpg',\n",
       "  'vector': array([ 96.12860057, 120.29072221])},\n",
       " {'celeb_id': 2,\n",
       "  'img_path': './data/img_align_celeba/000002.jpg',\n",
       "  'vector': array([-102.26930149,  -42.53393496])},\n",
       " {'celeb_id': 2,\n",
       "  'img_path': './data/img_align_celeba/011437.jpg',\n",
       "  'vector': array([-120.26139277,  -84.4157551 ])},\n",
       " {'celeb_id': 2,\n",
       "  'img_path': './data/img_align_celeba/016335.jpg',\n",
       "  'vector': array([-47.53017253,   9.17628407])},\n",
       " {'celeb_id': 2,\n",
       "  'img_path': './data/img_align_celeba/017121.jpg',\n",
       "  'vector': array([-137.12767626,   83.62350658])},\n",
       " {'celeb_id': 2,\n",
       "  'img_path': './data/img_align_celeba/024291.jpg',\n",
       "  'vector': array([-182.55377947,   56.77146782])}]"
      ]
     },
     "execution_count": 24,
     "metadata": {},
     "output_type": "execute_result"
    }
   ],
   "source": [
    "# TODO: dummy embeddings for the first three images of celebrities 1 and 2\n",
    "dummy_data = []\n",
    "\n",
    "dummy_data.extend([{'celeb_id': 1, 'img_path': img_path, 'vector': embedding_celebrity_id1(img_path, dim=img_dim) }\n",
    "                   for img_path in id1_images[:5]])\n",
    "dummy_data.extend([{'celeb_id': 2, 'img_path': img_path, 'vector': embedding_celebrity_id2(img_path, dim=img_dim) }\n",
    "                   for img_path in id2_images[:5]])\n",
    "dummy_data"
   ]
  },
  {
   "cell_type": "code",
   "execution_count": 7,
   "metadata": {},
   "outputs": [
    {
     "data": {
      "text/plain": [
       "{'insert_count': 6, 'ids': [455058925097058304, 455058925097058305, 455058925097058306, 455058925097058307, 455058925097058308, 455058925097058309], 'cost': 0}"
      ]
     },
     "execution_count": 7,
     "metadata": {},
     "output_type": "execute_result"
    }
   ],
   "source": [
    "img_collection.insert(dummy_data)"
   ]
  },
  {
   "cell_type": "markdown",
   "metadata": {},
   "source": [
    "# Query Vector DB"
   ]
  },
  {
   "cell_type": "code",
   "execution_count": 8,
   "metadata": {},
   "outputs": [
    {
     "data": {
      "text/plain": [
       "array([105.05299374,  97.38643585])"
      ]
     },
     "execution_count": 8,
     "metadata": {},
     "output_type": "execute_result"
    }
   ],
   "source": [
    "# Celeb-ID 1 dummy query vector embedding\n",
    "query_vector = embedding_celebrity_id1(\"uploaded_image.jpg\", img_dim)\n",
    "query_vector"
   ]
  },
  {
   "cell_type": "code",
   "execution_count": 9,
   "metadata": {},
   "outputs": [],
   "source": [
    "# output max 2 entries\n",
    "result = img_collection.search(query_vectors=[query_vector], limit=2)"
   ]
  },
  {
   "cell_type": "code",
   "execution_count": 10,
   "metadata": {},
   "outputs": [
    {
     "name": "stdout",
     "output_type": "stream",
     "text": [
      "hit_id=455058925097058305, hit_distance=0.9984222054481506\n",
      " > celeb_id=1\n",
      " > img_path=./data/img_align_celeba/000404.jpg\n",
      "\n",
      "hit_id=455058925097058304, hit_distance=0.9979906678199768\n",
      " > celeb_id=1\n",
      " > img_path=./data/img_align_celeba/000001.jpg\n",
      "\n"
     ]
    }
   ],
   "source": [
    "for hits in result:\n",
    "    for hit in hits:\n",
    "        hit_id, hit_distance = hit['id'], hit['distance']\n",
    "        print(f\"{hit_id=}, {hit_distance=}\")\n",
    "\n",
    "        celeb_id, img_path = hit['entity']['celeb_id'], hit['entity']['img_path']\n",
    "        print(f\" > celeb_id={celeb_id}\")\n",
    "        print(f\" > img_path={img_path}\")\n",
    "        print()"
   ]
  },
  {
   "cell_type": "code",
   "execution_count": 21,
   "metadata": {},
   "outputs": [
    {
     "data": {
      "text/plain": [
       "[{'id': 455058925097058305,\n",
       "  'distance': 0.9984222054481506,\n",
       "  'entity': {'celeb_id': 1,\n",
       "   'img_path': './data/img_align_celeba/000404.jpg',\n",
       "   'vector': [100.32820129394531, 104.07516479492188]}},\n",
       " {'id': 455058925097058304,\n",
       "  'distance': 0.9979906678199768,\n",
       "  'entity': {'celeb_id': 1,\n",
       "   'img_path': './data/img_align_celeba/000001.jpg',\n",
       "   'vector': [116.90525817871094, 95.34062957763672]}}]"
      ]
     },
     "execution_count": 21,
     "metadata": {},
     "output_type": "execute_result"
    }
   ],
   "source": [
    "result[0]"
   ]
  },
  {
   "cell_type": "code",
   "execution_count": null,
   "metadata": {},
   "outputs": [],
   "source": []
  }
 ],
 "metadata": {
  "kernelspec": {
   "display_name": "Python 3 (ipykernel)",
   "language": "python",
   "name": "python3"
  },
  "language_info": {
   "codemirror_mode": {
    "name": "ipython",
    "version": 3
   },
   "file_extension": ".py",
   "mimetype": "text/x-python",
   "name": "python",
   "nbconvert_exporter": "python",
   "pygments_lexer": "ipython3",
   "version": "3.10.12"
  }
 },
 "nbformat": 4,
 "nbformat_minor": 4
}
