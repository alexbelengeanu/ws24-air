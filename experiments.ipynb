{
 "cells": [
  {
   "cell_type": "code",
   "execution_count": 4,
   "metadata": {},
   "outputs": [
    {
     "name": "stdout",
     "output_type": "stream",
     "text": [
      "The autoreload extension is already loaded. To reload it, use:\n",
      "  %reload_ext autoreload\n"
     ]
    }
   ],
   "source": [
    "%load_ext autoreload\n",
    "%autoreload 2"
   ]
  },
  {
   "cell_type": "markdown",
   "metadata": {},
   "source": [
    "# Local VectorDB"
   ]
  },
  {
   "cell_type": "code",
   "execution_count": 1,
   "metadata": {},
   "outputs": [],
   "source": [
    "from src.storage.client import DatabaseManager\n",
    "\n",
    "db_manager = DatabaseManager()\n",
    "db_manager.create_client(remove_if_exists=True)"
   ]
  },
  {
   "cell_type": "code",
   "execution_count": 2,
   "metadata": {},
   "outputs": [],
   "source": [
    "from src.storage.collection import ImageCollection\n",
    "\n",
    "img_dim = 2\n",
    "img_similiary_metric = \"COSINE\"\n",
    "img_collection = ImageCollection(db_manager.get_client(), dimension=img_dim, metric_type=img_similiary_metric)"
   ]
  },
  {
   "cell_type": "markdown",
   "metadata": {},
   "source": [
    "# Insert with Dummy Embeddings"
   ]
  },
  {
   "cell_type": "code",
   "execution_count": 3,
   "metadata": {},
   "outputs": [
    {
     "name": "stdout",
     "output_type": "stream",
     "text": [
      "2880: ['./data/img_align_celeba/000001.jpg', './data/img_align_celeba/000404.jpg', './data/img_align_celeba/003415.jpg', './data/img_align_celeba/004390.jpg', './data/img_align_celeba/018062.jpg', './data/img_align_celeba/025244.jpg', './data/img_align_celeba/027771.jpg', './data/img_align_celeba/039393.jpg', './data/img_align_celeba/047978.jpg', './data/img_align_celeba/049142.jpg', './data/img_align_celeba/052385.jpg', './data/img_align_celeba/052623.jpg', './data/img_align_celeba/053184.jpg', './data/img_align_celeba/053311.jpg', './data/img_align_celeba/055834.jpg', './data/img_align_celeba/058188.jpg', './data/img_align_celeba/061431.jpg', './data/img_align_celeba/068154.jpg', './data/img_align_celeba/084705.jpg', './data/img_align_celeba/090937.jpg', './data/img_align_celeba/096324.jpg', './data/img_align_celeba/100990.jpg', './data/img_align_celeba/103728.jpg', './data/img_align_celeba/108341.jpg', './data/img_align_celeba/110376.jpg', './data/img_align_celeba/122439.jpg', './data/img_align_celeba/131731.jpg', './data/img_align_celeba/134007.jpg', './data/img_align_celeba/139106.jpg', './data/img_align_celeba/140935.jpg']\n",
      "\n",
      "2937: ['./data/img_align_celeba/000002.jpg', './data/img_align_celeba/011437.jpg', './data/img_align_celeba/016335.jpg', './data/img_align_celeba/017121.jpg', './data/img_align_celeba/024291.jpg', './data/img_align_celeba/037082.jpg', './data/img_align_celeba/045318.jpg', './data/img_align_celeba/046844.jpg', './data/img_align_celeba/048360.jpg', './data/img_align_celeba/055891.jpg', './data/img_align_celeba/057357.jpg', './data/img_align_celeba/058209.jpg', './data/img_align_celeba/058400.jpg', './data/img_align_celeba/059638.jpg', './data/img_align_celeba/060925.jpg', './data/img_align_celeba/063242.jpg', './data/img_align_celeba/063616.jpg', './data/img_align_celeba/066809.jpg', './data/img_align_celeba/077346.jpg', './data/img_align_celeba/095867.jpg', './data/img_align_celeba/099877.jpg', './data/img_align_celeba/105287.jpg', './data/img_align_celeba/108661.jpg', './data/img_align_celeba/114336.jpg', './data/img_align_celeba/114625.jpg', './data/img_align_celeba/117710.jpg', './data/img_align_celeba/120280.jpg', './data/img_align_celeba/125140.jpg', './data/img_align_celeba/142601.jpg', './data/img_align_celeba/152380.jpg']\n",
      "\n"
     ]
    }
   ],
   "source": [
    "from src.storage.dataset import Dataset\n",
    "\n",
    "dataset = Dataset(\n",
    "    img_folder_path=\"./data/img_align_celeba\",\n",
    "    img_identity_map_path=\"./data/identity_CelebA.txt\"\n",
    ")\n",
    "\n",
    "img_identity_collection = dataset.images_by_identity()\n",
    "\n",
    "keys_list = list(img_identity_collection.keys())\n",
    "for key in keys_list[:2]:  # Using slicing to get the first five keys\n",
    "    print(f'{key}: {img_identity_collection[key]}\\n')"
   ]
  },
  {
   "cell_type": "code",
   "execution_count": 4,
   "metadata": {},
   "outputs": [
    {
     "name": "stdout",
     "output_type": "stream",
     "text": [
      "# Celebrity-ID 2880  #img=30\n",
      "# Celebrity-ID 2937  #img=30\n"
     ]
    }
   ],
   "source": [
    "id1_images = img_identity_collection[2880]\n",
    "id2_images = img_identity_collection[2937]\n",
    "\n",
    "print(f\"# Celebrity-ID 2880  #img={len(id1_images)}\")\n",
    "print(f\"# Celebrity-ID 2937  #img={len(id2_images)}\")"
   ]
  },
  {
   "cell_type": "code",
   "execution_count": 5,
   "metadata": {},
   "outputs": [],
   "source": [
    "# TODO: DUMMY Embedding replace with real img2vec embedding!\n",
    "import numpy as np\n",
    "\n",
    "np.random.seed(7)\n",
    "\n",
    "def embedding_celebrity_id1(img_path: str, dim: int):\n",
    "    vector = np.random.normal(size=dim, loc=[100, 100], scale=10)\n",
    "    return vector\n",
    "\n",
    "def embedding_celebrity_id2(img_path: str, dim: int):\n",
    "    vector = np.random.normal(size=dim, loc=[-100, 30], scale=50)\n",
    "    return vector"
   ]
  },
  {
   "cell_type": "code",
   "execution_count": 24,
   "metadata": {},
   "outputs": [
    {
     "data": {
      "text/plain": [
       "[{'celeb_id': 1,\n",
       "  'img_path': './data/img_align_celeba/000001.jpg',\n",
       "  'vector': array([97.57250921, 85.46758588])},\n",
       " {'celeb_id': 1,\n",
       "  'img_path': './data/img_align_celeba/000404.jpg',\n",
       "  'vector': array([105.54580312, 101.23880905])},\n",
       " {'celeb_id': 1,\n",
       "  'img_path': './data/img_align_celeba/003415.jpg',\n",
       "  'vector': array([102.74459924,  84.73475468])},\n",
       " {'celeb_id': 1,\n",
       "  'img_path': './data/img_align_celeba/004390.jpg',\n",
       "  'vector': array([116.50699691, 101.54335535])},\n",
       " {'celeb_id': 1,\n",
       "  'img_path': './data/img_align_celeba/018062.jpg',\n",
       "  'vector': array([ 96.12860057, 120.29072221])},\n",
       " {'celeb_id': 2,\n",
       "  'img_path': './data/img_align_celeba/000002.jpg',\n",
       "  'vector': array([-102.26930149,  -42.53393496])},\n",
       " {'celeb_id': 2,\n",
       "  'img_path': './data/img_align_celeba/011437.jpg',\n",
       "  'vector': array([-120.26139277,  -84.4157551 ])},\n",
       " {'celeb_id': 2,\n",
       "  'img_path': './data/img_align_celeba/016335.jpg',\n",
       "  'vector': array([-47.53017253,   9.17628407])},\n",
       " {'celeb_id': 2,\n",
       "  'img_path': './data/img_align_celeba/017121.jpg',\n",
       "  'vector': array([-137.12767626,   83.62350658])},\n",
       " {'celeb_id': 2,\n",
       "  'img_path': './data/img_align_celeba/024291.jpg',\n",
       "  'vector': array([-182.55377947,   56.77146782])}]"
      ]
     },
     "execution_count": 24,
     "metadata": {},
     "output_type": "execute_result"
    }
   ],
   "source": [
    "# TODO: dummy embeddings for the first three images of celebrities 1 and 2\n",
    "dummy_data = []\n",
    "\n",
    "dummy_data.extend([{'celeb_id': 1, 'img_path': img_path, 'vector': embedding_celebrity_id1(img_path, dim=img_dim) }\n",
    "                   for img_path in id1_images[:5]])\n",
    "dummy_data.extend([{'celeb_id': 2, 'img_path': img_path, 'vector': embedding_celebrity_id2(img_path, dim=img_dim) }\n",
    "                   for img_path in id2_images[:5]])\n",
    "dummy_data"
   ]
  },
  {
   "cell_type": "code",
   "execution_count": 7,
   "metadata": {},
   "outputs": [
    {
     "data": {
      "text/plain": [
       "{'insert_count': 6, 'ids': [455058925097058304, 455058925097058305, 455058925097058306, 455058925097058307, 455058925097058308, 455058925097058309], 'cost': 0}"
      ]
     },
     "execution_count": 7,
     "metadata": {},
     "output_type": "execute_result"
    }
   ],
   "source": [
    "img_collection.insert(dummy_data)"
   ]
  },
  {
   "cell_type": "markdown",
   "metadata": {},
   "source": [
    "# Query Vector DB"
   ]
  },
  {
   "cell_type": "code",
   "execution_count": 8,
   "metadata": {},
   "outputs": [
    {
     "data": {
      "text/plain": [
       "array([105.05299374,  97.38643585])"
      ]
     },
     "execution_count": 8,
     "metadata": {},
     "output_type": "execute_result"
    }
   ],
   "source": [
    "# Celeb-ID 1 dummy query vector embedding\n",
    "query_vector = embedding_celebrity_id1(\"uploaded_image.jpg\", img_dim)\n",
    "query_vector"
   ]
  },
  {
   "cell_type": "code",
   "execution_count": 9,
   "metadata": {},
   "outputs": [],
   "source": [
    "# output max 2 entries\n",
    "result = img_collection.search(query_vectors=[query_vector], limit=2)"
   ]
  },
  {
   "cell_type": "code",
   "execution_count": 10,
   "metadata": {},
   "outputs": [
    {
     "name": "stdout",
     "output_type": "stream",
     "text": [
      "hit_id=455058925097058305, hit_distance=0.9984222054481506\n",
      " > celeb_id=1\n",
      " > img_path=./data/img_align_celeba/000404.jpg\n",
      "\n",
      "hit_id=455058925097058304, hit_distance=0.9979906678199768\n",
      " > celeb_id=1\n",
      " > img_path=./data/img_align_celeba/000001.jpg\n",
      "\n"
     ]
    }
   ],
   "source": [
    "for hits in result:\n",
    "    for hit in hits:\n",
    "        hit_id, hit_distance = hit['id'], hit['distance']\n",
    "        print(f\"{hit_id=}, {hit_distance=}\")\n",
    "\n",
    "        celeb_id, img_path = hit['entity']['celeb_id'], hit['entity']['img_path']\n",
    "        print(f\" > celeb_id={celeb_id}\")\n",
    "        print(f\" > img_path={img_path}\")\n",
    "        print()"
   ]
  },
  {
   "cell_type": "code",
   "execution_count": 21,
   "metadata": {},
   "outputs": [
    {
     "data": {
      "text/plain": [
       "[{'id': 455058925097058305,\n",
       "  'distance': 0.9984222054481506,\n",
       "  'entity': {'celeb_id': 1,\n",
       "   'img_path': './data/img_align_celeba/000404.jpg',\n",
       "   'vector': [100.32820129394531, 104.07516479492188]}},\n",
       " {'id': 455058925097058304,\n",
       "  'distance': 0.9979906678199768,\n",
       "  'entity': {'celeb_id': 1,\n",
       "   'img_path': './data/img_align_celeba/000001.jpg',\n",
       "   'vector': [116.90525817871094, 95.34062957763672]}}]"
      ]
     },
     "execution_count": 21,
     "metadata": {},
     "output_type": "execute_result"
    }
   ],
   "source": [
    "result[0]"
   ]
  },
  {
   "cell_type": "code",
   "execution_count": 11,
   "metadata": {},
   "outputs": [
    {
     "name": "stdout",
     "output_type": "stream",
     "text": [
      "Applied providers: ['CPUExecutionProvider'], with options: {'CPUExecutionProvider': {}}\n",
      "model ignore: /Users/thomasraunegger/.insightface/models/buffalo_m/1k3d68.onnx landmark_3d_68\n",
      "Applied providers: ['CPUExecutionProvider'], with options: {'CPUExecutionProvider': {}}\n",
      "model ignore: /Users/thomasraunegger/.insightface/models/buffalo_m/2d106det.onnx landmark_2d_106\n",
      "Applied providers: ['CPUExecutionProvider'], with options: {'CPUExecutionProvider': {}}\n",
      "find model: /Users/thomasraunegger/.insightface/models/buffalo_m/det_2.5g.onnx detection [1, 3, '?', '?'] 127.5 128.0\n",
      "Applied providers: ['CPUExecutionProvider'], with options: {'CPUExecutionProvider': {}}\n",
      "model ignore: /Users/thomasraunegger/.insightface/models/buffalo_m/genderage.onnx genderage\n",
      "Applied providers: ['CPUExecutionProvider'], with options: {'CPUExecutionProvider': {}}\n",
      "find model: /Users/thomasraunegger/.insightface/models/buffalo_m/w600k_r50.onnx recognition ['None', 3, 112, 112] 127.5 127.5\n",
      "set det-size: (640, 640)\n"
     ]
    },
    {
     "data": {
      "text/plain": [
       "array([ 7.29187429e-02,  8.79215151e-02, -4.11809683e-02,  5.32334531e-03,\n",
       "        8.37004930e-02, -5.01929857e-02,  1.57786813e-02, -3.62129486e-03,\n",
       "       -5.04453890e-02, -3.48747522e-02,  1.85586954e-03,  4.91254739e-02,\n",
       "       -4.53895554e-02, -3.29272710e-02, -1.21375784e-01, -2.49558724e-02,\n",
       "       -5.77462204e-02, -4.01164480e-02, -2.60713720e-03,  3.47793959e-02,\n",
       "       -7.03772483e-03,  4.72001992e-02, -4.03232202e-02, -1.06775258e-02,\n",
       "       -6.43924624e-02,  1.71399284e-02, -9.35843866e-03,  4.89064306e-02,\n",
       "       -1.71282850e-02,  3.32633257e-02, -4.36806828e-02,  1.24259980e-03,\n",
       "        1.62741616e-01, -8.59953910e-02, -2.42856275e-02,  4.91061360e-02,\n",
       "        1.33769000e-02, -2.25466490e-02,  1.36992941e-02,  5.58406971e-02,\n",
       "       -3.48553360e-02, -2.00011898e-02, -8.03039409e-03,  1.72506496e-02,\n",
       "        3.30759585e-02,  5.08579165e-02,  1.40875764e-03,  9.87517368e-03,\n",
       "        1.17490264e-02, -1.14871599e-02,  5.55703510e-03, -3.37671116e-02,\n",
       "        5.84146790e-02,  5.94970509e-02,  2.06022095e-02,  2.40409411e-02,\n",
       "       -1.09112421e-02, -1.99626479e-02,  1.07099088e-02,  1.15717752e-02,\n",
       "       -6.42595887e-02,  6.42929226e-02,  9.24752373e-03, -3.57562825e-02,\n",
       "        5.81370629e-02, -3.72395627e-02, -1.62683688e-02, -6.76744757e-03,\n",
       "       -1.19769592e-02,  2.05778833e-02,  3.71877588e-02,  2.05652416e-03,\n",
       "       -1.43744443e-02,  4.95409444e-02, -1.50403650e-02, -3.06635275e-02,\n",
       "        4.78232466e-02,  2.52698995e-02,  1.41523210e-02, -3.35262306e-02,\n",
       "        9.27011855e-03, -3.76493117e-04,  8.90986156e-03,  1.01551302e-02,\n",
       "       -2.80696563e-02, -3.02238688e-02,  8.70970711e-02,  4.61447202e-02,\n",
       "       -1.83543302e-02,  1.04626268e-03,  4.23770584e-02, -7.23357871e-02,\n",
       "       -4.24066558e-02,  1.21223060e-02, -1.26795322e-01, -2.77207531e-02,\n",
       "       -4.29060459e-02,  4.42739874e-02,  1.49196591e-02, -5.47302812e-02,\n",
       "       -4.72052321e-02,  1.32412547e-02, -4.47912738e-02, -1.08942010e-01,\n",
       "        4.47255895e-02, -1.37218274e-04, -4.15684097e-02,  4.54354752e-03,\n",
       "       -1.26027167e-02, -6.97645918e-02,  4.40042932e-03, -2.59166791e-05,\n",
       "       -6.22254126e-02, -1.58521552e-02,  1.31437799e-03,  1.57771800e-02,\n",
       "       -1.02237519e-02, -3.34235132e-02,  3.33871096e-02,  2.84638628e-02,\n",
       "       -5.36898971e-02, -1.29028007e-01, -2.03956757e-02,  7.28563115e-04,\n",
       "        3.51265492e-03, -7.50721060e-03, -2.69414615e-02,  4.52922806e-02,\n",
       "        9.48343985e-03, -6.06099842e-04, -3.45698260e-02,  2.35044956e-02,\n",
       "        5.51851392e-02, -2.74284221e-02, -6.94375299e-03,  3.33290454e-03,\n",
       "        4.94599380e-02,  6.76343590e-02,  3.16215493e-02, -3.13038789e-02,\n",
       "        7.58610442e-02,  1.36573398e-02, -5.35374694e-02,  5.85397966e-02,\n",
       "       -1.55182119e-04,  3.78010832e-02,  1.73172094e-02,  5.52196475e-03,\n",
       "       -2.47404370e-02, -6.05141744e-02,  7.83705804e-03,  1.36578716e-02,\n",
       "       -1.62321609e-02, -2.30978597e-02, -7.45918751e-02,  1.79016832e-02,\n",
       "        2.60185376e-02,  1.19185876e-02,  8.85456894e-03, -2.06982139e-02,\n",
       "        3.69180739e-02, -1.80953667e-02,  3.04872822e-02, -1.70230791e-02,\n",
       "       -1.18002314e-02,  1.81688033e-02, -3.37018929e-02, -9.98729933e-03,\n",
       "       -3.06551042e-03,  2.52494961e-02,  4.94688340e-02,  8.87245387e-02,\n",
       "        3.75959016e-02, -1.87761355e-02, -6.52195737e-02, -1.08151615e-01,\n",
       "        3.91989853e-03,  4.88593355e-02,  5.00297397e-02,  9.97217838e-03,\n",
       "       -1.69777069e-02,  1.96703263e-02,  3.26521248e-02,  8.99163913e-03,\n",
       "       -7.14700222e-02, -1.58274900e-02, -3.26834656e-02,  5.76278865e-02,\n",
       "        9.35913995e-04,  5.66839501e-02, -1.51118066e-03, -2.84642586e-03,\n",
       "       -4.33981530e-02, -2.05209423e-02,  5.05091548e-02,  6.01212643e-02,\n",
       "       -6.27601743e-02, -2.98452168e-03,  5.94326146e-02,  6.17927648e-02,\n",
       "       -3.11102010e-02, -5.01173409e-03,  5.31138442e-02, -1.21374829e-02,\n",
       "       -1.00900166e-01, -2.00153273e-02,  2.29663420e-02, -3.25432979e-02,\n",
       "       -6.66500553e-02,  1.80803072e-02,  5.07882535e-02, -1.00171179e-01,\n",
       "       -3.01488466e-03,  1.50996139e-02,  4.27847682e-03,  5.35480957e-03,\n",
       "       -3.55207250e-02,  1.75999310e-02, -7.77251273e-02, -1.62148532e-02,\n",
       "        1.97276846e-02,  1.97830424e-02,  7.67981410e-02, -5.28928591e-03,\n",
       "       -2.64634639e-02, -4.64040302e-02,  1.30050018e-01, -1.49528142e-02,\n",
       "        2.33578514e-02,  2.82180980e-02, -3.09970113e-03,  9.12600011e-02,\n",
       "       -3.38499695e-02, -5.69984876e-02, -5.79383336e-02, -1.44020154e-03,\n",
       "        2.50372421e-02,  3.57980132e-02, -1.92025409e-03, -2.90319650e-03,\n",
       "        1.27010336e-02, -9.34984162e-03, -6.62711859e-02, -1.20004090e-02,\n",
       "       -2.53611151e-02, -3.10812220e-02,  5.60207888e-02,  1.03048876e-01,\n",
       "       -3.25445123e-02, -6.38483837e-02,  3.80532965e-02,  9.63965664e-04,\n",
       "       -1.05407536e-02,  9.15875100e-03,  5.75725622e-02,  5.16627170e-02,\n",
       "       -4.80912067e-02, -5.49079366e-02,  3.51267941e-02,  1.12724258e-02,\n",
       "        3.84107307e-02,  4.40249918e-03,  8.90783221e-02, -7.57564791e-03,\n",
       "        2.92982324e-03, -2.28901897e-02, -3.98783386e-02,  3.38303857e-02,\n",
       "        1.28727062e-02, -3.98243405e-02, -3.02495863e-02, -7.91835114e-02,\n",
       "       -2.67363749e-02, -5.13213500e-02,  1.01602666e-01, -3.83153670e-02,\n",
       "        9.14876610e-02,  6.79376572e-02,  8.39334168e-03,  1.22673623e-02,\n",
       "        1.64511055e-02,  3.10353842e-02,  2.97927223e-02,  3.12941261e-02,\n",
       "       -9.77182686e-02,  1.73875690e-02,  7.31319338e-02, -2.00584568e-02,\n",
       "        5.96345328e-02,  1.41597511e-02,  4.97284792e-02, -2.00791862e-02,\n",
       "       -5.15843779e-02, -1.59898605e-02, -4.35070731e-02,  1.28641231e-02,\n",
       "       -3.91433388e-02,  2.81990264e-02, -3.48528959e-02,  1.49090858e-02,\n",
       "        2.84493044e-02,  3.31795663e-02, -4.28545568e-03,  2.85833143e-02,\n",
       "       -3.87382954e-02,  7.16007203e-02,  1.16813198e-01,  6.45220801e-02,\n",
       "        3.55079956e-03,  5.80160357e-02,  3.82236540e-02,  7.07276314e-02,\n",
       "       -7.20165856e-03,  1.26625746e-02,  2.85494216e-02, -3.74262892e-02,\n",
       "       -9.09707695e-03,  2.78824698e-02, -8.86771530e-02,  6.99690282e-02,\n",
       "        3.09704542e-02, -2.12341358e-04,  2.20083278e-02,  1.92451980e-02,\n",
       "       -2.63908748e-02, -3.67072672e-02, -1.29331173e-02,  3.33920754e-02,\n",
       "       -1.14481449e-02, -3.24102007e-02,  2.44213846e-02, -7.35804737e-02,\n",
       "       -1.08599355e-02, -7.35405646e-03, -4.15642075e-02, -6.88607171e-02,\n",
       "       -3.81252095e-02,  2.50441395e-03,  5.56293763e-02,  3.26161012e-02,\n",
       "        7.88891539e-02,  3.89858708e-02,  1.65835302e-02, -3.77309769e-02,\n",
       "       -2.46346649e-02,  5.85988872e-02, -5.22187464e-02, -1.84288085e-03,\n",
       "       -5.06166331e-02, -4.83109280e-02, -5.27920201e-03,  4.53940816e-02,\n",
       "       -6.41401261e-02, -2.75936816e-03, -4.27083597e-02,  9.96542163e-03,\n",
       "        9.01876390e-02,  2.12563947e-02, -1.99490786e-02,  1.02435149e-01,\n",
       "       -2.71335840e-02,  5.31372540e-02,  2.03235149e-02, -2.24245638e-02,\n",
       "        2.65314914e-02,  1.32883210e-02,  2.74435654e-02,  3.47539112e-02,\n",
       "        1.55389160e-02, -5.12382910e-02, -1.56403370e-02,  6.23210557e-02,\n",
       "       -1.07384823e-01,  2.96806209e-02,  3.01275048e-02, -5.55039607e-02,\n",
       "        6.45675063e-02, -9.13082212e-02,  5.63832186e-03,  2.13252101e-02,\n",
       "        2.97292322e-02,  1.99135933e-02,  1.05303349e-02,  3.86510603e-02,\n",
       "        7.06190690e-02,  7.78314797e-03,  2.91398503e-02, -5.22801280e-02,\n",
       "       -3.91555317e-02, -7.26418048e-02, -4.90493067e-02,  4.31329310e-02,\n",
       "       -4.93949205e-02,  6.07713945e-02, -8.44441578e-02, -5.59876114e-02,\n",
       "        5.02254553e-02, -3.05504631e-02, -2.28009205e-02, -4.92224982e-03,\n",
       "       -1.38984397e-02,  5.77178933e-02, -4.53723297e-02, -6.42147884e-02,\n",
       "        1.88845899e-02,  5.35769109e-03, -1.90606341e-02,  2.33735349e-02,\n",
       "       -3.45557630e-02, -7.90814087e-02, -9.01306607e-03, -1.36191314e-02,\n",
       "        2.29603555e-02,  8.33362415e-02,  7.06896931e-02, -5.25603704e-02,\n",
       "       -8.34894087e-03, -1.75414104e-02,  7.74862096e-02,  5.64595051e-02,\n",
       "       -6.03741184e-02,  5.92958517e-02,  2.66833548e-02,  6.57062232e-02,\n",
       "       -4.08141240e-02, -2.32405718e-02, -2.84713302e-02, -2.74033863e-02,\n",
       "       -7.15178549e-02, -1.60411876e-02,  5.49612120e-02,  4.85897027e-02,\n",
       "        3.53194103e-02,  6.69200271e-02,  1.82150938e-02, -2.25825198e-02,\n",
       "        2.51357704e-02, -7.38047287e-02, -2.78378427e-02,  3.55924945e-03,\n",
       "        4.18778546e-02, -4.32925075e-02,  8.04504752e-02,  6.84179217e-02,\n",
       "       -2.70687435e-02,  4.41371985e-02,  5.13598621e-02,  5.66923060e-03,\n",
       "       -2.16845237e-02,  4.79184603e-03,  1.44406911e-02, -1.33506376e-02,\n",
       "        2.30260547e-02,  6.81261718e-02,  2.06998214e-02,  1.77480076e-02,\n",
       "        6.52876124e-02, -2.74840221e-02,  3.90314758e-02,  2.47003026e-02,\n",
       "       -6.08272254e-02, -8.72844681e-02,  1.94779579e-02, -3.28240395e-02,\n",
       "       -1.31976148e-02, -3.80770420e-03,  6.48165196e-02, -5.50515875e-02,\n",
       "        8.14577739e-04,  7.73929134e-02, -2.35717501e-02,  1.81162674e-02,\n",
       "        1.48476567e-03, -4.89156274e-03, -5.99876046e-02,  3.11257746e-02,\n",
       "        4.22407389e-02,  2.11804733e-02, -4.35727164e-02, -2.12163315e-03,\n",
       "       -8.15010257e-03, -1.26935802e-02, -1.48998767e-01,  2.15514600e-02,\n",
       "        7.90447649e-03, -1.01976069e-02,  5.33094332e-02, -9.72313900e-03,\n",
       "       -1.97840910e-02, -2.18180139e-02,  5.52539853e-03,  3.56082688e-03,\n",
       "       -3.98233570e-02,  1.87559556e-02, -2.56424733e-02, -3.55399214e-02,\n",
       "        2.47644484e-02, -5.88532202e-02, -1.41723724e-02,  1.46875875e-02,\n",
       "        2.56787501e-02, -4.70556840e-02,  4.23141420e-02, -6.34475574e-02,\n",
       "       -6.57820748e-03, -3.82708907e-02, -7.81080276e-02, -1.05653284e-03,\n",
       "        5.43475188e-02,  2.54404154e-02,  1.81286652e-02, -3.08930222e-02],\n",
       "      dtype=float32)"
      ]
     },
     "execution_count": 11,
     "metadata": {},
     "output_type": "execute_result"
    }
   ],
   "source": [
    "from src.embeddings.pretrained import FaceEmbeddings\n",
    "\n",
    "em = FaceEmbeddings()\n",
    "\n",
    "embedding = em.get_embedding(path=\"data/img_align_celeba/000001.jpg\")\n",
    "print(embedding)"
   ]
  }
 ],
 "metadata": {
  "kernelspec": {
   "display_name": "base",
   "language": "python",
   "name": "python3"
  },
  "language_info": {
   "codemirror_mode": {
    "name": "ipython",
    "version": 3
   },
   "file_extension": ".py",
   "mimetype": "text/x-python",
   "name": "python",
   "nbconvert_exporter": "python",
   "pygments_lexer": "ipython3",
   "version": "3.11.5"
  }
 },
 "nbformat": 4,
 "nbformat_minor": 4
}
